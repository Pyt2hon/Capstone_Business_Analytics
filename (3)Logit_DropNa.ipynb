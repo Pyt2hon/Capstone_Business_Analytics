{
 "cells": [
  {
   "cell_type": "code",
   "execution_count": 62,
   "id": "861f6675",
   "metadata": {},
   "outputs": [],
   "source": [
    "import pandas as pd\n",
    "from sklearn.model_selection import train_test_split\n",
    "from sklearn.linear_model import LogisticRegression\n",
    "from sklearn.metrics  import confusion_matrix, classification_report, roc_auc_score, roc_curve\n",
    "from sklearn.tree import DecisionTreeClassifier\n",
    "import matplotlib.pyplot as plt \n",
    "import statsmodels.api as sm\n",
    "import numpy as np\n",
    "import sklearn.linear_model\n",
    "\n",
    "path = \"/Users/noa/Desktop/Business Analytics/\"\n",
    "Stroke = pd.read_csv(path +\"healthcare-dataset-stroke-data.csv\")"
   ]
  },
  {
   "cell_type": "code",
   "execution_count": 63,
   "id": "5729f676",
   "metadata": {},
   "outputs": [],
   "source": [
    "Stroke = Stroke.drop(\"id\", axis = 1)\n",
    "Stroke = pd.get_dummies(Stroke, drop_first = True)"
   ]
  },
  {
   "cell_type": "code",
   "execution_count": 64,
   "id": "866e8b9d",
   "metadata": {},
   "outputs": [
    {
     "data": {
      "text/plain": [
       "16"
      ]
     },
     "execution_count": 64,
     "metadata": {},
     "output_type": "execute_result"
    }
   ],
   "source": [
    "Stroke_columns = ['age', 'hypertension', 'heart_disease', 'avg_glucose_level', 'bmi', 'gender_Male', 'gender_Other', 'ever_married_Yes', 'work_type_Never_worked', 'work_type_Private','work_type_Self-employed', 'work_type_children' ,'Residence_type_Urban','smoking_status_formerly smoked','smoking_status_never smoked','smoking_status_smokes']\n",
    "len(Stroke_columns)"
   ]
  },
  {
   "cell_type": "code",
   "execution_count": 84,
   "id": "75da61ae",
   "metadata": {},
   "outputs": [],
   "source": [
    "Stroke = Stroke.dropna()\n",
    "y = Stroke[\"stroke\"]\n",
    "X = Stroke.drop(\"stroke\", axis = 1)\n",
    "X_train, X_test, y_train, y_test = train_test_split(X, y, test_size = 0.3, random_state=1)"
   ]
  },
  {
   "cell_type": "code",
   "execution_count": 87,
   "id": "216ae647",
   "metadata": {},
   "outputs": [
    {
     "name": "stdout",
     "output_type": "stream",
     "text": [
      "Warning: Maximum number of iterations has been exceeded.\n",
      "         Current function value: 0.137991\n",
      "         Iterations: 35\n"
     ]
    },
    {
     "name": "stderr",
     "output_type": "stream",
     "text": [
      "/opt/anaconda3/lib/python3.9/site-packages/statsmodels/tsa/tsatools.py:142: FutureWarning: In a future version of pandas all arguments of concat except for the argument 'objs' will be keyword-only\n",
      "  x = pd.concat(x[::order], 1)\n",
      "/opt/anaconda3/lib/python3.9/site-packages/statsmodels/base/model.py:566: ConvergenceWarning: Maximum Likelihood optimization failed to converge. Check mle_retvals\n",
      "  warnings.warn(\"Maximum Likelihood optimization failed to \"\n"
     ]
    }
   ],
   "source": [
    "X_train = sm.add_constant(X_train)\n",
    "default = sm.Logit(y_train, X_train)\n",
    "default = default.fit()"
   ]
  },
  {
   "cell_type": "code",
   "execution_count": 88,
   "id": "2a2c840d",
   "metadata": {},
   "outputs": [
    {
     "name": "stdout",
     "output_type": "stream",
     "text": [
      "                           Logit Regression Results                           \n",
      "==============================================================================\n",
      "Dep. Variable:                 stroke   No. Observations:                 3436\n",
      "Model:                          Logit   Df Residuals:                     3419\n",
      "Method:                           MLE   Df Model:                           16\n",
      "Date:                Sat, 07 May 2022   Pseudo R-squ.:                  0.2109\n",
      "Time:                        20:22:31   Log-Likelihood:                -474.14\n",
      "converged:                      False   LL-Null:                       -600.87\n",
      "Covariance Type:            nonrobust   LLR p-value:                 1.008e-44\n",
      "==================================================================================================\n",
      "                                     coef    std err          z      P>|z|      [0.025      0.975]\n",
      "--------------------------------------------------------------------------------------------------\n",
      "const                             -8.3286      0.803    -10.372      0.000      -9.902      -6.755\n",
      "age                                0.0711      0.008      9.422      0.000       0.056       0.086\n",
      "hypertension                       0.4121      0.212      1.944      0.052      -0.003       0.828\n",
      "heart_disease                      0.2745      0.252      1.090      0.276      -0.219       0.768\n",
      "avg_glucose_level                  0.0050      0.002      3.299      0.001       0.002       0.008\n",
      "bmi                                0.0030      0.014      0.211      0.833      -0.025       0.031\n",
      "gender_Male                       -0.0637      0.186     -0.343      0.731      -0.428       0.300\n",
      "gender_Other                     -12.3260   6500.026     -0.002      0.998   -1.28e+04    1.27e+04\n",
      "ever_married_Yes                   0.0900      0.305      0.295      0.768      -0.507       0.687\n",
      "work_type_Never_worked           -33.5458   1.19e+08  -2.83e-07      1.000   -2.32e+08    2.32e+08\n",
      "work_type_Private                  0.0505      0.260      0.194      0.846      -0.459       0.560\n",
      "work_type_Self-employed           -0.3882      0.303     -1.281      0.200      -0.982       0.206\n",
      "work_type_children                -9.7398    218.853     -0.045      0.965    -438.683     419.203\n",
      "Residence_type_Urban               0.1168      0.180      0.648      0.517      -0.236       0.470\n",
      "smoking_status_formerly smoked     0.4042      0.297      1.363      0.173      -0.177       0.986\n",
      "smoking_status_never smoked        0.1824      0.284      0.641      0.521      -0.375       0.740\n",
      "smoking_status_smokes              0.6964      0.317      2.199      0.028       0.076       1.317\n",
      "==================================================================================================\n",
      "\n",
      "Possibly complete quasi-separation: A fraction 0.14 of observations can be\n",
      "perfectly predicted. This might indicate that there is complete\n",
      "quasi-separation. In this case some parameters will not be identified.\n"
     ]
    }
   ],
   "source": [
    "print(default.summary())"
   ]
  },
  {
   "cell_type": "code",
   "execution_count": 89,
   "id": "117f49d5",
   "metadata": {},
   "outputs": [
    {
     "data": {
      "text/plain": [
       "const                             -8.328646\n",
       "age                                0.071130\n",
       "hypertension                       0.412098\n",
       "heart_disease                      0.274531\n",
       "avg_glucose_level                  0.005046\n",
       "bmi                                0.003044\n",
       "gender_Male                       -0.063727\n",
       "gender_Other                     -12.326024\n",
       "ever_married_Yes                   0.090034\n",
       "work_type_Never_worked           -33.545820\n",
       "work_type_Private                  0.050469\n",
       "work_type_Self-employed           -0.388150\n",
       "work_type_children                -9.739837\n",
       "Residence_type_Urban               0.116789\n",
       "smoking_status_formerly smoked     0.404236\n",
       "smoking_status_never smoked        0.182412\n",
       "smoking_status_smokes              0.696359\n",
       "dtype: float64"
      ]
     },
     "execution_count": 89,
     "metadata": {},
     "output_type": "execute_result"
    }
   ],
   "source": [
    "default.params"
   ]
  },
  {
   "cell_type": "code",
   "execution_count": 90,
   "id": "d24f4df5",
   "metadata": {},
   "outputs": [
    {
     "data": {
      "text/plain": [
       "const                            -0.000000\n",
       "age                               1.600236\n",
       "hypertension                      0.120449\n",
       "heart_disease                     0.059377\n",
       "avg_glucose_level                 0.225440\n",
       "bmi                               0.023497\n",
       "gender_Male                      -0.031342\n",
       "gender_Other                     -0.210279\n",
       "ever_married_Yes                  0.042870\n",
       "work_type_Never_worked           -2.354087\n",
       "work_type_Private                 0.024924\n",
       "work_type_Self-employed          -0.138905\n",
       "work_type_children               -3.332265\n",
       "Residence_type_Urban              0.058351\n",
       "smoking_status_formerly smoked    0.150707\n",
       "smoking_status_never smoked       0.088452\n",
       "smoking_status_smokes             0.251164\n",
       "dtype: float64"
      ]
     },
     "execution_count": 90,
     "metadata": {},
     "output_type": "execute_result"
    }
   ],
   "source": [
    "standardized_effects = X_train.std() * default.params \n",
    "standardized_effects"
   ]
  },
  {
   "cell_type": "code",
   "execution_count": 91,
   "id": "9d798cf5",
   "metadata": {},
   "outputs": [
    {
     "name": "stderr",
     "output_type": "stream",
     "text": [
      "/opt/anaconda3/lib/python3.9/site-packages/statsmodels/tsa/tsatools.py:142: FutureWarning: In a future version of pandas all arguments of concat except for the argument 'objs' will be keyword-only\n",
      "  x = pd.concat(x[::order], 1)\n"
     ]
    },
    {
     "data": {
      "text/plain": [
       "2648    3.406556e-02\n",
       "3441    4.417140e-02\n",
       "4935    1.597663e-03\n",
       "1316    3.274870e-03\n",
       "3271    8.048772e-03\n",
       "1628    1.854436e-01\n",
       "843     1.404389e-03\n",
       "1046    1.144721e-02\n",
       "2721    4.505539e-18\n",
       "2731    2.495393e-02\n",
       "dtype: float64"
      ]
     },
     "execution_count": 91,
     "metadata": {},
     "output_type": "execute_result"
    }
   ],
   "source": [
    "y_test_pred = default.predict(sm.add_constant(X_test))\n",
    "y_test_pred.head(10)"
   ]
  },
  {
   "cell_type": "code",
   "execution_count": 92,
   "id": "3bff18a5",
   "metadata": {},
   "outputs": [
    {
     "data": {
      "text/plain": [
       "2648    0\n",
       "3441    0\n",
       "4935    0\n",
       "1316    0\n",
       "3271    0\n",
       "1628    1\n",
       "843     0\n",
       "1046    0\n",
       "2721    0\n",
       "2731    0\n",
       "dtype: int64"
      ]
     },
     "execution_count": 92,
     "metadata": {},
     "output_type": "execute_result"
    }
   ],
   "source": [
    "y_test_predclass = (y_test_pred > 0.1).astype(int)\n",
    "y_test_predclass.head(10)"
   ]
  },
  {
   "cell_type": "code",
   "execution_count": 93,
   "id": "dd3b4e5e",
   "metadata": {},
   "outputs": [
    {
     "data": {
      "text/plain": [
       "array([[1240,  169],\n",
       "       [  26,   38]])"
      ]
     },
     "execution_count": 93,
     "metadata": {},
     "output_type": "execute_result"
    }
   ],
   "source": [
    "confusion_matrix(y_test, y_test_predclass)"
   ]
  },
  {
   "cell_type": "code",
   "execution_count": 94,
   "id": "5617f27f",
   "metadata": {},
   "outputs": [
    {
     "name": "stdout",
     "output_type": "stream",
     "text": [
      "              precision    recall  f1-score   support\n",
      "\n",
      "           0       0.98      0.88      0.93      1409\n",
      "           1       0.18      0.59      0.28        64\n",
      "\n",
      "    accuracy                           0.87      1473\n",
      "   macro avg       0.58      0.74      0.60      1473\n",
      "weighted avg       0.94      0.87      0.90      1473\n",
      "\n"
     ]
    }
   ],
   "source": [
    "print(classification_report(y_test, y_test_predclass))"
   ]
  },
  {
   "cell_type": "code",
   "execution_count": 95,
   "id": "0b44c623",
   "metadata": {},
   "outputs": [
    {
     "data": {
      "text/plain": [
       "0.8527324343506033"
      ]
     },
     "execution_count": 95,
     "metadata": {},
     "output_type": "execute_result"
    }
   ],
   "source": [
    "roc_auc_score(y_test, y_test_pred)"
   ]
  },
  {
   "cell_type": "code",
   "execution_count": 96,
   "id": "00f91043",
   "metadata": {},
   "outputs": [],
   "source": [
    "fpr, tpr, thresholds = roc_curve(y_test, y_test_pred)"
   ]
  },
  {
   "cell_type": "code",
   "execution_count": 97,
   "id": "94934d6f",
   "metadata": {},
   "outputs": [
    {
     "data": {
      "image/png": "[encoded data removed]",
      "text/plain": [
       "<Figure size 432x288 with 1 Axes>"
      ]
     },
     "metadata": {
      "needs_background": "light"
     },
     "output_type": "display_data"
    }
   ],
   "source": [
    "fig, ax = plt.subplots()\n",
    "ax.plot(fpr, tpr, color=\"green\")\n",
    "ax.plot([0,1],[0,1], \"--\")\n",
    "\n",
    "ax.set_title(\"Receiver Operating Characteristic Curve\")\n",
    "ax.set_ylabel(\"True Positive Rate (Recall)\")\n",
    "ax.set_xlabel(\"False Positive Rate\")\n",
    "plt.show()"
   ]
  },
  {
   "cell_type": "code",
   "execution_count": 98,
   "id": "2986d309",
   "metadata": {},
   "outputs": [
    {
     "data": {
      "text/plain": [
       "0.02516029359246282"
      ]
     },
     "execution_count": 98,
     "metadata": {},
     "output_type": "execute_result"
    }
   ],
   "source": [
    "J = tpr - fpr\n",
    "thresholds[np.argmax(J)]"
   ]
  }
 ],
 "metadata": {
  "kernelspec": {
   "display_name": "Python 3 (ipykernel)",
   "language": "python",
   "name": "python3"
  },
  "language_info": {
   "codemirror_mode": {
    "name": "ipython",
    "version": 3
   },
   "file_extension": ".py",
   "mimetype": "text/x-python",
   "name": "python",
   "nbconvert_exporter": "python",
   "pygments_lexer": "ipython3",
   "version": "3.9.7"
  }
 },
 "nbformat": 4,
 "nbformat_minor": 5
}
