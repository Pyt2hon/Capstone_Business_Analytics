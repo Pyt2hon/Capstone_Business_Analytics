{
 "cells": [
  {
   "cell_type": "code",
   "execution_count": 210,
   "id": "861f6675",
   "metadata": {},
   "outputs": [],
   "source": [
    "import pandas as pd\n",
    "from sklearn.model_selection import train_test_split\n",
    "from sklearn.metrics  import confusion_matrix, classification_report, roc_auc_score, roc_curve\n",
    "from sklearn.tree import DecisionTreeClassifier\n",
    "import matplotlib.pyplot as plt \n",
    "import statsmodels.api as sm\n",
    "import numpy as np\n",
    "import sklearn.linear_model\n",
    "\n",
    "path = \"/Users/noa/Desktop/Business Analytics/\"\n",
    "Stroke = pd.read_csv(path +\"healthcare-dataset-stroke-data.csv\")"
   ]
  },
  {
   "cell_type": "code",
   "execution_count": 211,
   "id": "5729f676",
   "metadata": {},
   "outputs": [],
   "source": [
    "Stroke = Stroke.drop(\"id\", axis = 1)\n",
    "Stroke = pd.get_dummies(Stroke, drop_first = True)"
   ]
  },
  {
   "cell_type": "code",
   "execution_count": 212,
   "id": "866e8b9d",
   "metadata": {},
   "outputs": [
    {
     "data": {
      "text/plain": [
       "16"
      ]
     },
     "execution_count": 212,
     "metadata": {},
     "output_type": "execute_result"
    }
   ],
   "source": [
    "Stroke_columns = ['age', 'hypertension', 'heart_disease', 'avg_glucose_level', 'bmi', 'gender_Male', 'gender_Other', 'ever_married_Yes', 'work_type_Never_worked', 'work_type_Private','work_type_Self-employed', 'work_type_children' ,'Residence_type_Urban','smoking_status_formerly smoked','smoking_status_never smoked','smoking_status_smokes']\n",
    "len(Stroke_columns)"
   ]
  },
  {
   "cell_type": "code",
   "execution_count": 213,
   "id": "75da61ae",
   "metadata": {},
   "outputs": [],
   "source": [
    "y = Stroke[\"stroke\"]\n",
    "X = Stroke.drop(\"stroke\", axis = 1)\n",
    "X_train, X_test, y_train, y_test = train_test_split(X, y, test_size = 0.3, random_state=1)"
   ]
  },
  {
   "cell_type": "code",
   "execution_count": 214,
   "id": "66727b12",
   "metadata": {},
   "outputs": [],
   "source": [
    "from sklearn.impute import KNNImputer\n",
    "imputer = KNNImputer(n_neighbors=5)\n",
    "imputer.fit(X_train)\n",
    "X_train_imputed = imputer.transform(X_train)\n",
    "X_train_imputed = pd.DataFrame(X_train_imputed, columns=Stroke_columns, index = X_train.index)"
   ]
  },
  {
   "cell_type": "code",
   "execution_count": 215,
   "id": "cb6241d7",
   "metadata": {},
   "outputs": [
    {
     "name": "stdout",
     "output_type": "stream",
     "text": [
      "<class 'pandas.core.frame.DataFrame'>\n",
      "Int64Index: 1533 entries, 4673 to 3810\n",
      "Data columns (total 16 columns):\n",
      " #   Column                          Non-Null Count  Dtype  \n",
      "---  ------                          --------------  -----  \n",
      " 0   age                             1533 non-null   float64\n",
      " 1   hypertension                    1533 non-null   float64\n",
      " 2   heart_disease                   1533 non-null   float64\n",
      " 3   avg_glucose_level               1533 non-null   float64\n",
      " 4   bmi                             1533 non-null   float64\n",
      " 5   gender_Male                     1533 non-null   float64\n",
      " 6   gender_Other                    1533 non-null   float64\n",
      " 7   ever_married_Yes                1533 non-null   float64\n",
      " 8   work_type_Never_worked          1533 non-null   float64\n",
      " 9   work_type_Private               1533 non-null   float64\n",
      " 10  work_type_Self-employed         1533 non-null   float64\n",
      " 11  work_type_children              1533 non-null   float64\n",
      " 12  Residence_type_Urban            1533 non-null   float64\n",
      " 13  smoking_status_formerly smoked  1533 non-null   float64\n",
      " 14  smoking_status_never smoked     1533 non-null   float64\n",
      " 15  smoking_status_smokes           1533 non-null   float64\n",
      "dtypes: float64(16)\n",
      "memory usage: 203.6 KB\n"
     ]
    }
   ],
   "source": [
    "X_test_imputed = imputer.transform(X_test)\n",
    "X_test_imputed = pd.DataFrame(X_test_imputed, columns = Stroke_columns, index=X_test.index)\n",
    "X_test_imputed.info()"
   ]
  },
  {
   "cell_type": "code",
   "execution_count": 216,
   "id": "c27b46a5",
   "metadata": {},
   "outputs": [
    {
     "name": "stderr",
     "output_type": "stream",
     "text": [
      "/opt/anaconda3/lib/python3.9/site-packages/statsmodels/tsa/tsatools.py:142: FutureWarning: In a future version of pandas all arguments of concat except for the argument 'objs' will be keyword-only\n",
      "  x = pd.concat(x[::order], 1)\n"
     ]
    },
    {
     "data": {
      "text/html": [
       "<div>\n",
       "<style scoped>\n",
       "    .dataframe tbody tr th:only-of-type {\n",
       "        vertical-align: middle;\n",
       "    }\n",
       "\n",
       "    .dataframe tbody tr th {\n",
       "        vertical-align: top;\n",
       "    }\n",
       "\n",
       "    .dataframe thead th {\n",
       "        text-align: right;\n",
       "    }\n",
       "</style>\n",
       "<table border=\"1\" class=\"dataframe\">\n",
       "  <thead>\n",
       "    <tr style=\"text-align: right;\">\n",
       "      <th></th>\n",
       "      <th>const</th>\n",
       "      <th>age</th>\n",
       "      <th>hypertension</th>\n",
       "      <th>heart_disease</th>\n",
       "      <th>avg_glucose_level</th>\n",
       "      <th>bmi</th>\n",
       "      <th>gender_Male</th>\n",
       "      <th>gender_Other</th>\n",
       "      <th>ever_married_Yes</th>\n",
       "      <th>work_type_Never_worked</th>\n",
       "      <th>work_type_Private</th>\n",
       "      <th>work_type_Self-employed</th>\n",
       "      <th>work_type_children</th>\n",
       "      <th>Residence_type_Urban</th>\n",
       "      <th>smoking_status_formerly smoked</th>\n",
       "      <th>smoking_status_never smoked</th>\n",
       "      <th>smoking_status_smokes</th>\n",
       "    </tr>\n",
       "  </thead>\n",
       "  <tbody>\n",
       "    <tr>\n",
       "      <th>4313</th>\n",
       "      <td>1.0</td>\n",
       "      <td>57.00</td>\n",
       "      <td>0.0</td>\n",
       "      <td>0.0</td>\n",
       "      <td>134.76</td>\n",
       "      <td>29.1</td>\n",
       "      <td>1.0</td>\n",
       "      <td>0.0</td>\n",
       "      <td>1.0</td>\n",
       "      <td>0.0</td>\n",
       "      <td>1.0</td>\n",
       "      <td>0.0</td>\n",
       "      <td>0.0</td>\n",
       "      <td>1.0</td>\n",
       "      <td>0.0</td>\n",
       "      <td>0.0</td>\n",
       "      <td>0.0</td>\n",
       "    </tr>\n",
       "    <tr>\n",
       "      <th>376</th>\n",
       "      <td>1.0</td>\n",
       "      <td>0.88</td>\n",
       "      <td>0.0</td>\n",
       "      <td>0.0</td>\n",
       "      <td>88.11</td>\n",
       "      <td>15.5</td>\n",
       "      <td>0.0</td>\n",
       "      <td>0.0</td>\n",
       "      <td>0.0</td>\n",
       "      <td>0.0</td>\n",
       "      <td>0.0</td>\n",
       "      <td>0.0</td>\n",
       "      <td>1.0</td>\n",
       "      <td>0.0</td>\n",
       "      <td>0.0</td>\n",
       "      <td>0.0</td>\n",
       "      <td>0.0</td>\n",
       "    </tr>\n",
       "    <tr>\n",
       "      <th>4913</th>\n",
       "      <td>1.0</td>\n",
       "      <td>20.00</td>\n",
       "      <td>0.0</td>\n",
       "      <td>0.0</td>\n",
       "      <td>84.49</td>\n",
       "      <td>20.5</td>\n",
       "      <td>1.0</td>\n",
       "      <td>0.0</td>\n",
       "      <td>0.0</td>\n",
       "      <td>0.0</td>\n",
       "      <td>1.0</td>\n",
       "      <td>0.0</td>\n",
       "      <td>0.0</td>\n",
       "      <td>1.0</td>\n",
       "      <td>0.0</td>\n",
       "      <td>1.0</td>\n",
       "      <td>0.0</td>\n",
       "    </tr>\n",
       "    <tr>\n",
       "      <th>1791</th>\n",
       "      <td>1.0</td>\n",
       "      <td>13.00</td>\n",
       "      <td>0.0</td>\n",
       "      <td>0.0</td>\n",
       "      <td>137.45</td>\n",
       "      <td>18.2</td>\n",
       "      <td>1.0</td>\n",
       "      <td>0.0</td>\n",
       "      <td>0.0</td>\n",
       "      <td>0.0</td>\n",
       "      <td>0.0</td>\n",
       "      <td>0.0</td>\n",
       "      <td>1.0</td>\n",
       "      <td>0.0</td>\n",
       "      <td>0.0</td>\n",
       "      <td>0.0</td>\n",
       "      <td>0.0</td>\n",
       "    </tr>\n",
       "    <tr>\n",
       "      <th>2166</th>\n",
       "      <td>1.0</td>\n",
       "      <td>28.00</td>\n",
       "      <td>0.0</td>\n",
       "      <td>0.0</td>\n",
       "      <td>169.49</td>\n",
       "      <td>27.2</td>\n",
       "      <td>1.0</td>\n",
       "      <td>0.0</td>\n",
       "      <td>1.0</td>\n",
       "      <td>0.0</td>\n",
       "      <td>1.0</td>\n",
       "      <td>0.0</td>\n",
       "      <td>0.0</td>\n",
       "      <td>0.0</td>\n",
       "      <td>0.0</td>\n",
       "      <td>0.0</td>\n",
       "      <td>0.0</td>\n",
       "    </tr>\n",
       "    <tr>\n",
       "      <th>...</th>\n",
       "      <td>...</td>\n",
       "      <td>...</td>\n",
       "      <td>...</td>\n",
       "      <td>...</td>\n",
       "      <td>...</td>\n",
       "      <td>...</td>\n",
       "      <td>...</td>\n",
       "      <td>...</td>\n",
       "      <td>...</td>\n",
       "      <td>...</td>\n",
       "      <td>...</td>\n",
       "      <td>...</td>\n",
       "      <td>...</td>\n",
       "      <td>...</td>\n",
       "      <td>...</td>\n",
       "      <td>...</td>\n",
       "      <td>...</td>\n",
       "    </tr>\n",
       "    <tr>\n",
       "      <th>2895</th>\n",
       "      <td>1.0</td>\n",
       "      <td>46.00</td>\n",
       "      <td>0.0</td>\n",
       "      <td>0.0</td>\n",
       "      <td>137.77</td>\n",
       "      <td>29.3</td>\n",
       "      <td>1.0</td>\n",
       "      <td>0.0</td>\n",
       "      <td>1.0</td>\n",
       "      <td>0.0</td>\n",
       "      <td>1.0</td>\n",
       "      <td>0.0</td>\n",
       "      <td>0.0</td>\n",
       "      <td>1.0</td>\n",
       "      <td>0.0</td>\n",
       "      <td>1.0</td>\n",
       "      <td>0.0</td>\n",
       "    </tr>\n",
       "    <tr>\n",
       "      <th>2763</th>\n",
       "      <td>1.0</td>\n",
       "      <td>45.00</td>\n",
       "      <td>0.0</td>\n",
       "      <td>0.0</td>\n",
       "      <td>63.73</td>\n",
       "      <td>32.0</td>\n",
       "      <td>0.0</td>\n",
       "      <td>0.0</td>\n",
       "      <td>1.0</td>\n",
       "      <td>0.0</td>\n",
       "      <td>1.0</td>\n",
       "      <td>0.0</td>\n",
       "      <td>0.0</td>\n",
       "      <td>0.0</td>\n",
       "      <td>0.0</td>\n",
       "      <td>0.0</td>\n",
       "      <td>0.0</td>\n",
       "    </tr>\n",
       "    <tr>\n",
       "      <th>905</th>\n",
       "      <td>1.0</td>\n",
       "      <td>31.00</td>\n",
       "      <td>0.0</td>\n",
       "      <td>0.0</td>\n",
       "      <td>76.26</td>\n",
       "      <td>35.6</td>\n",
       "      <td>0.0</td>\n",
       "      <td>0.0</td>\n",
       "      <td>1.0</td>\n",
       "      <td>0.0</td>\n",
       "      <td>1.0</td>\n",
       "      <td>0.0</td>\n",
       "      <td>0.0</td>\n",
       "      <td>0.0</td>\n",
       "      <td>0.0</td>\n",
       "      <td>1.0</td>\n",
       "      <td>0.0</td>\n",
       "    </tr>\n",
       "    <tr>\n",
       "      <th>3980</th>\n",
       "      <td>1.0</td>\n",
       "      <td>45.00</td>\n",
       "      <td>0.0</td>\n",
       "      <td>0.0</td>\n",
       "      <td>218.10</td>\n",
       "      <td>55.0</td>\n",
       "      <td>0.0</td>\n",
       "      <td>0.0</td>\n",
       "      <td>1.0</td>\n",
       "      <td>0.0</td>\n",
       "      <td>1.0</td>\n",
       "      <td>0.0</td>\n",
       "      <td>0.0</td>\n",
       "      <td>0.0</td>\n",
       "      <td>0.0</td>\n",
       "      <td>0.0</td>\n",
       "      <td>1.0</td>\n",
       "    </tr>\n",
       "    <tr>\n",
       "      <th>235</th>\n",
       "      <td>1.0</td>\n",
       "      <td>68.00</td>\n",
       "      <td>0.0</td>\n",
       "      <td>0.0</td>\n",
       "      <td>211.06</td>\n",
       "      <td>39.3</td>\n",
       "      <td>0.0</td>\n",
       "      <td>0.0</td>\n",
       "      <td>1.0</td>\n",
       "      <td>0.0</td>\n",
       "      <td>1.0</td>\n",
       "      <td>0.0</td>\n",
       "      <td>0.0</td>\n",
       "      <td>0.0</td>\n",
       "      <td>0.0</td>\n",
       "      <td>0.0</td>\n",
       "      <td>0.0</td>\n",
       "    </tr>\n",
       "  </tbody>\n",
       "</table>\n",
       "<p>3577 rows × 17 columns</p>\n",
       "</div>"
      ],
      "text/plain": [
       "      const    age  hypertension  heart_disease  avg_glucose_level   bmi  \\\n",
       "4313    1.0  57.00           0.0            0.0             134.76  29.1   \n",
       "376     1.0   0.88           0.0            0.0              88.11  15.5   \n",
       "4913    1.0  20.00           0.0            0.0              84.49  20.5   \n",
       "1791    1.0  13.00           0.0            0.0             137.45  18.2   \n",
       "2166    1.0  28.00           0.0            0.0             169.49  27.2   \n",
       "...     ...    ...           ...            ...                ...   ...   \n",
       "2895    1.0  46.00           0.0            0.0             137.77  29.3   \n",
       "2763    1.0  45.00           0.0            0.0              63.73  32.0   \n",
       "905     1.0  31.00           0.0            0.0              76.26  35.6   \n",
       "3980    1.0  45.00           0.0            0.0             218.10  55.0   \n",
       "235     1.0  68.00           0.0            0.0             211.06  39.3   \n",
       "\n",
       "      gender_Male  gender_Other  ever_married_Yes  work_type_Never_worked  \\\n",
       "4313          1.0           0.0               1.0                     0.0   \n",
       "376           0.0           0.0               0.0                     0.0   \n",
       "4913          1.0           0.0               0.0                     0.0   \n",
       "1791          1.0           0.0               0.0                     0.0   \n",
       "2166          1.0           0.0               1.0                     0.0   \n",
       "...           ...           ...               ...                     ...   \n",
       "2895          1.0           0.0               1.0                     0.0   \n",
       "2763          0.0           0.0               1.0                     0.0   \n",
       "905           0.0           0.0               1.0                     0.0   \n",
       "3980          0.0           0.0               1.0                     0.0   \n",
       "235           0.0           0.0               1.0                     0.0   \n",
       "\n",
       "      work_type_Private  work_type_Self-employed  work_type_children  \\\n",
       "4313                1.0                      0.0                 0.0   \n",
       "376                 0.0                      0.0                 1.0   \n",
       "4913                1.0                      0.0                 0.0   \n",
       "1791                0.0                      0.0                 1.0   \n",
       "2166                1.0                      0.0                 0.0   \n",
       "...                 ...                      ...                 ...   \n",
       "2895                1.0                      0.0                 0.0   \n",
       "2763                1.0                      0.0                 0.0   \n",
       "905                 1.0                      0.0                 0.0   \n",
       "3980                1.0                      0.0                 0.0   \n",
       "235                 1.0                      0.0                 0.0   \n",
       "\n",
       "      Residence_type_Urban  smoking_status_formerly smoked  \\\n",
       "4313                   1.0                             0.0   \n",
       "376                    0.0                             0.0   \n",
       "4913                   1.0                             0.0   \n",
       "1791                   0.0                             0.0   \n",
       "2166                   0.0                             0.0   \n",
       "...                    ...                             ...   \n",
       "2895                   1.0                             0.0   \n",
       "2763                   0.0                             0.0   \n",
       "905                    0.0                             0.0   \n",
       "3980                   0.0                             0.0   \n",
       "235                    0.0                             0.0   \n",
       "\n",
       "      smoking_status_never smoked  smoking_status_smokes  \n",
       "4313                          0.0                    0.0  \n",
       "376                           0.0                    0.0  \n",
       "4913                          1.0                    0.0  \n",
       "1791                          0.0                    0.0  \n",
       "2166                          0.0                    0.0  \n",
       "...                           ...                    ...  \n",
       "2895                          1.0                    0.0  \n",
       "2763                          0.0                    0.0  \n",
       "905                           1.0                    0.0  \n",
       "3980                          0.0                    1.0  \n",
       "235                           0.0                    0.0  \n",
       "\n",
       "[3577 rows x 17 columns]"
      ]
     },
     "execution_count": 216,
     "metadata": {},
     "output_type": "execute_result"
    }
   ],
   "source": [
    "X_train_imputed = sm.add_constant(X_train_imputed)\n",
    "X_train_imputed"
   ]
  },
  {
   "cell_type": "code",
   "execution_count": 217,
   "id": "de4ae38f",
   "metadata": {},
   "outputs": [
    {
     "data": {
      "text/plain": [
       "const                            -9.096046e-02\n",
       "age                               3.191230e-03\n",
       "hypertension                      3.463665e-02\n",
       "heart_disease                     4.549948e-02\n",
       "avg_glucose_level                 1.738127e-04\n",
       "bmi                              -4.243912e-04\n",
       "gender_Male                      -1.192617e-02\n",
       "gender_Other                     -1.405221e-17\n",
       "ever_married_Yes                 -4.423265e-02\n",
       "work_type_Never_worked            3.715676e-02\n",
       "work_type_Private                 2.276872e-02\n",
       "work_type_Self-employed          -4.656767e-03\n",
       "work_type_children                6.813127e-02\n",
       "Residence_type_Urban              8.181344e-03\n",
       "smoking_status_formerly smoked   -2.105461e-03\n",
       "smoking_status_never smoked      -6.538069e-03\n",
       "smoking_status_smokes            -9.543306e-03\n",
       "dtype: float64"
      ]
     },
     "execution_count": 217,
     "metadata": {},
     "output_type": "execute_result"
    }
   ],
   "source": [
    "model = sm.OLS(y_train,X_train_imputed)\n",
    "results = model.fit()\n",
    "results.params"
   ]
  },
  {
   "cell_type": "code",
   "execution_count": 218,
   "id": "e45dca46",
   "metadata": {},
   "outputs": [
    {
     "name": "stdout",
     "output_type": "stream",
     "text": [
      "                            OLS Regression Results                            \n",
      "==============================================================================\n",
      "Dep. Variable:                 stroke   R-squared:                       0.079\n",
      "Model:                            OLS   Adj. R-squared:                  0.075\n",
      "Method:                 Least Squares   F-statistic:                     20.23\n",
      "Date:                Sat, 07 May 2022   Prob (F-statistic):           2.86e-53\n",
      "Time:                        13:55:15   Log-Likelihood:                 646.94\n",
      "No. Observations:                3577   AIC:                            -1262.\n",
      "Df Residuals:                    3561   BIC:                            -1163.\n",
      "Df Model:                          15                                         \n",
      "Covariance Type:            nonrobust                                         \n",
      "==================================================================================================\n",
      "                                     coef    std err          t      P>|t|      [0.025      0.975]\n",
      "--------------------------------------------------------------------------------------------------\n",
      "const                             -0.0910      0.022     -4.112      0.000      -0.134      -0.048\n",
      "age                                0.0032      0.000     12.543      0.000       0.003       0.004\n",
      "hypertension                       0.0346      0.012      2.890      0.004       0.011       0.058\n",
      "heart_disease                      0.0455      0.016      2.866      0.004       0.014       0.077\n",
      "avg_glucose_level                  0.0002   7.86e-05      2.210      0.027    1.96e-05       0.000\n",
      "bmi                               -0.0004      0.001     -0.837      0.402      -0.001       0.001\n",
      "gender_Male                       -0.0119      0.007     -1.716      0.086      -0.026       0.002\n",
      "gender_Other                   -1.405e-17      8e-18     -1.757      0.079   -2.97e-17    1.63e-18\n",
      "ever_married_Yes                  -0.0442      0.010     -4.361      0.000      -0.064      -0.024\n",
      "work_type_Never_worked             0.0372      0.051      0.731      0.465      -0.062       0.137\n",
      "work_type_Private                  0.0228      0.011      2.157      0.031       0.002       0.043\n",
      "work_type_Self-employed           -0.0047      0.013     -0.363      0.717      -0.030       0.020\n",
      "work_type_children                 0.0681      0.018      3.773      0.000       0.033       0.104\n",
      "Residence_type_Urban               0.0082      0.007      1.207      0.228      -0.005       0.021\n",
      "smoking_status_formerly smoked    -0.0021      0.011     -0.187      0.851      -0.024       0.020\n",
      "smoking_status_never smoked       -0.0065      0.009     -0.698      0.485      -0.025       0.012\n",
      "smoking_status_smokes             -0.0095      0.012     -0.822      0.411      -0.032       0.013\n",
      "==============================================================================\n",
      "Omnibus:                     2770.753   Durbin-Watson:                   1.994\n",
      "Prob(Omnibus):                  0.000   Jarque-Bera (JB):            38262.692\n",
      "Skew:                           3.798   Prob(JB):                         0.00\n",
      "Kurtosis:                      17.108   Cond. No.                     8.15e+18\n",
      "==============================================================================\n",
      "\n",
      "Notes:\n",
      "[1] Standard Errors assume that the covariance matrix of the errors is correctly specified.\n",
      "[2] The smallest eigenvalue is 8.54e-31. This might indicate that there are\n",
      "strong multicollinearity problems or that the design matrix is singular.\n"
     ]
    }
   ],
   "source": [
    "print(results.summary())"
   ]
  },
  {
   "cell_type": "code",
   "execution_count": 219,
   "id": "fe119e3b",
   "metadata": {},
   "outputs": [
    {
     "data": {
      "text/plain": [
       "Residence_type_Urban              1.004100\n",
       "age                               1.074404\n",
       "avg_glucose_level                 1.007944\n",
       "bmi                               0.996695\n",
       "const                                  NaN\n",
       "ever_married_Yes                  0.979250\n",
       "gender_Male                       0.994129\n",
       "gender_Other                      1.000000\n",
       "heart_disease                     1.010309\n",
       "hypertension                      1.010372\n",
       "smoking_status_formerly smoked    0.999200\n",
       "smoking_status_never smoked       0.996851\n",
       "smoking_status_smokes             0.996568\n",
       "work_type_Never_worked            1.002559\n",
       "work_type_Private                 1.011329\n",
       "work_type_Self-employed           0.998290\n",
       "work_type_children                1.023435\n",
       "dtype: float64"
      ]
     },
     "execution_count": 219,
     "metadata": {},
     "output_type": "execute_result"
    }
   ],
   "source": [
    "standardized_effects = X_train.std() * results.params \n",
    "np.exp(standardized_effects)"
   ]
  },
  {
   "cell_type": "code",
   "execution_count": 221,
   "id": "241eb522",
   "metadata": {},
   "outputs": [
    {
     "data": {
      "text/plain": [
       "4673    0.000583\n",
       "3232    0.143401\n",
       "3694    0.009830\n",
       "1070    0.145964\n",
       "4163    0.058505\n",
       "795    -0.029072\n",
       "440     0.016977\n",
       "870     0.035290\n",
       "1102    0.016151\n",
       "836     0.109406\n",
       "dtype: float64"
      ]
     },
     "execution_count": 221,
     "metadata": {},
     "output_type": "execute_result"
    }
   ],
   "source": [
    "y_test_pred = results.predict(sm.add_constant(X_test_imputed))\n",
    "y_test_pred.head(10)"
   ]
  },
  {
   "cell_type": "code",
   "execution_count": 222,
   "id": "eab5ade2",
   "metadata": {},
   "outputs": [
    {
     "data": {
      "text/plain": [
       "4673    0\n",
       "3232    1\n",
       "3694    0\n",
       "1070    1\n",
       "4163    0\n",
       "795     0\n",
       "440     0\n",
       "870     0\n",
       "1102    0\n",
       "836     1\n",
       "dtype: int64"
      ]
     },
     "execution_count": 222,
     "metadata": {},
     "output_type": "execute_result"
    }
   ],
   "source": [
    "y_test_predclass = (y_test_pred > 0.1).astype(int)\n",
    "y_test_predclass.head(10)"
   ]
  },
  {
   "cell_type": "code",
   "execution_count": 223,
   "id": "ee7d0730",
   "metadata": {},
   "outputs": [
    {
     "data": {
      "text/plain": [
       "array([[1186,  264],\n",
       "       [  25,   58]])"
      ]
     },
     "execution_count": 223,
     "metadata": {},
     "output_type": "execute_result"
    }
   ],
   "source": [
    "confusion_matrix(y_test, y_test_predclass)"
   ]
  },
  {
   "cell_type": "code",
   "execution_count": 226,
   "id": "8c7f273e",
   "metadata": {},
   "outputs": [
    {
     "data": {
      "text/plain": [
       "' \\nTrue Negatives = 1186\\nFalse Positives = 264\\nFalse Negatives = 25\\nTrue Positives = 58\\n'"
      ]
     },
     "execution_count": 226,
     "metadata": {},
     "output_type": "execute_result"
    }
   ],
   "source": [
    "\"\"\" \n",
    "True Negatives = 1186\n",
    "False Positives = 264\n",
    "False Negatives = 25\n",
    "True Positives = 58\n",
    "\"\"\""
   ]
  },
  {
   "cell_type": "code",
   "execution_count": 227,
   "id": "cee7d930",
   "metadata": {},
   "outputs": [
    {
     "name": "stdout",
     "output_type": "stream",
     "text": [
      "              precision    recall  f1-score   support\n",
      "\n",
      "           0       0.98      0.82      0.89      1450\n",
      "           1       0.18      0.70      0.29        83\n",
      "\n",
      "    accuracy                           0.81      1533\n",
      "   macro avg       0.58      0.76      0.59      1533\n",
      "weighted avg       0.94      0.81      0.86      1533\n",
      "\n"
     ]
    }
   ],
   "source": [
    "print(classification_report(y_test, y_test_predclass))"
   ]
  },
  {
   "cell_type": "code",
   "execution_count": null,
   "id": "03143325",
   "metadata": {},
   "outputs": [],
   "source": [
    "model = sm.GLM(y_train,X_train_imputed)\n",
    "results = model.fit()\n",
    "results.params"
   ]
  },
  {
   "cell_type": "code",
   "execution_count": null,
   "id": "00501cfd",
   "metadata": {},
   "outputs": [],
   "source": [
    "print(results.summary())"
   ]
  },
  {
   "cell_type": "code",
   "execution_count": null,
   "id": "9220a96b",
   "metadata": {},
   "outputs": [],
   "source": [
    "standardized_effects = X_train.std() * results.params \n",
    "# np.exp(standardized_effects)"
   ]
  },
  {
   "cell_type": "code",
   "execution_count": null,
   "id": "1d900e13",
   "metadata": {},
   "outputs": [],
   "source": [
    "y_test_pred = results.predict(sm.add_constant(X_test_imputed))\n",
    "# y_test_pred.head(10)"
   ]
  },
  {
   "cell_type": "code",
   "execution_count": null,
   "id": "1ee9d632",
   "metadata": {},
   "outputs": [],
   "source": [
    "y_test_predclass = (y_test_pred > 0.1).astype(int)\n",
    "y_test_predclass.head(10)"
   ]
  },
  {
   "cell_type": "code",
   "execution_count": null,
   "id": "5cff96ab",
   "metadata": {},
   "outputs": [],
   "source": [
    "confusion_matrix(y_test, y_test_predclass)"
   ]
  },
  {
   "cell_type": "code",
   "execution_count": null,
   "id": "d260f2b3",
   "metadata": {},
   "outputs": [],
   "source": [
    "print(classification_report(y_test, y_test_predclass))"
   ]
  },
  {
   "cell_type": "code",
   "execution_count": null,
   "id": "f9710806",
   "metadata": {},
   "outputs": [],
   "source": []
  }
 ],
 "metadata": {
  "kernelspec": {
   "display_name": "Python 3 (ipykernel)",
   "language": "python",
   "name": "python3"
  },
  "language_info": {
   "codemirror_mode": {
    "name": "ipython",
    "version": 3
   },
   "file_extension": ".py",
   "mimetype": "text/x-python",
   "name": "python",
   "nbconvert_exporter": "python",
   "pygments_lexer": "ipython3",
   "version": "3.9.7"
  }
 },
 "nbformat": 4,
 "nbformat_minor": 5
}
